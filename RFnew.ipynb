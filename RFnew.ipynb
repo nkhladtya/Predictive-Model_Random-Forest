{
  "cells": [
    {
      "metadata": {
        "trusted": true
      },
      "cell_type": "code",
      "source": "import numpy as np \nimport pandas as pd",
      "execution_count": 47,
      "outputs": []
    },
    {
      "metadata": {
        "trusted": true
      },
      "cell_type": "code",
      "source": "matches=pd.read_csv('rfdataset1.csv')\nmatches.head()",
      "execution_count": 48,
      "outputs": [
        {
          "output_type": "execute_result",
          "execution_count": 48,
          "data": {
            "text/html": "<div>\n<style scoped>\n    .dataframe tbody tr th:only-of-type {\n        vertical-align: middle;\n    }\n\n    .dataframe tbody tr th {\n        vertical-align: top;\n    }\n\n    .dataframe thead th {\n        text-align: right;\n    }\n</style>\n<table border=\"1\" class=\"dataframe\">\n  <thead>\n    <tr style=\"text-align: right;\">\n      <th></th>\n      <th>Start Date</th>\n      <th>Team</th>\n      <th>Opposition</th>\n      <th>Ground</th>\n      <th>Score</th>\n      <th>RPW</th>\n      <th>Result</th>\n    </tr>\n  </thead>\n  <tbody>\n    <tr>\n      <th>0</th>\n      <td>13 March 2020</td>\n      <td>Australia</td>\n      <td>New Zealand</td>\n      <td>Sydney</td>\n      <td>258</td>\n      <td>5.16</td>\n      <td>Australia</td>\n    </tr>\n    <tr>\n      <th>1</th>\n      <td>7 Mar 2020</td>\n      <td>Australia</td>\n      <td>South Africa</td>\n      <td>Potchefstroom</td>\n      <td>254</td>\n      <td>5.08</td>\n      <td>South Africa</td>\n    </tr>\n    <tr>\n      <th>2</th>\n      <td>4 Mar 2020</td>\n      <td>Australia</td>\n      <td>South Africa</td>\n      <td>Bloemfontein</td>\n      <td>271</td>\n      <td>5.42</td>\n      <td>South Africa</td>\n    </tr>\n    <tr>\n      <th>3</th>\n      <td>1 Mar 2020</td>\n      <td>Sri Lanka</td>\n      <td>West Indies</td>\n      <td>Pallekele</td>\n      <td>307</td>\n      <td>6.14</td>\n      <td>Sri Lanka</td>\n    </tr>\n    <tr>\n      <th>4</th>\n      <td>29 Feb 2020</td>\n      <td>South Africa</td>\n      <td>Australia</td>\n      <td>Paarl</td>\n      <td>291</td>\n      <td>5.82</td>\n      <td>South Africa</td>\n    </tr>\n  </tbody>\n</table>\n</div>",
            "text/plain": "      Start Date          Team    Opposition         Ground  Score   RPW  \\\n0  13 March 2020     Australia   New Zealand         Sydney    258  5.16   \n1     7 Mar 2020     Australia  South Africa  Potchefstroom    254  5.08   \n2     4 Mar 2020     Australia  South Africa   Bloemfontein    271  5.42   \n3     1 Mar 2020     Sri Lanka   West Indies      Pallekele    307  6.14   \n4    29 Feb 2020  South Africa     Australia          Paarl    291  5.82   \n\n         Result  \n0     Australia  \n1  South Africa  \n2  South Africa  \n3     Sri Lanka  \n4  South Africa  "
          },
          "metadata": {}
        }
      ]
    },
    {
      "metadata": {
        "trusted": true
      },
      "cell_type": "code",
      "source": "matches.replace(['Australia','England','Pakistan','Sri Lanka','India','New Zealand',\n                 'West Indies','South Africa']\n                ,['AUS','ENG','PAK','SL','IND','NZ','WI','SA'],inplace=True)\n\nmatches.head()\n",
      "execution_count": 36,
      "outputs": [
        {
          "output_type": "execute_result",
          "execution_count": 36,
          "data": {
            "text/html": "<div>\n<style scoped>\n    .dataframe tbody tr th:only-of-type {\n        vertical-align: middle;\n    }\n\n    .dataframe tbody tr th {\n        vertical-align: top;\n    }\n\n    .dataframe thead th {\n        text-align: right;\n    }\n</style>\n<table border=\"1\" class=\"dataframe\">\n  <thead>\n    <tr style=\"text-align: right;\">\n      <th></th>\n      <th>Start Date</th>\n      <th>Team</th>\n      <th>Opposition</th>\n      <th>Ground</th>\n      <th>Score</th>\n      <th>RPO</th>\n      <th>Result</th>\n    </tr>\n  </thead>\n  <tbody>\n    <tr>\n      <th>0</th>\n      <td>13 March 2020</td>\n      <td>AUS</td>\n      <td>NZ</td>\n      <td>Sydney</td>\n      <td>258</td>\n      <td>5.16</td>\n      <td>AUS</td>\n    </tr>\n    <tr>\n      <th>1</th>\n      <td>7 Mar 2020</td>\n      <td>AUS</td>\n      <td>SA</td>\n      <td>Potchefstroom</td>\n      <td>254</td>\n      <td>5.08</td>\n      <td>SA</td>\n    </tr>\n    <tr>\n      <th>2</th>\n      <td>4 Mar 2020</td>\n      <td>AUS</td>\n      <td>SA</td>\n      <td>Bloemfontein</td>\n      <td>271</td>\n      <td>5.42</td>\n      <td>SA</td>\n    </tr>\n    <tr>\n      <th>3</th>\n      <td>1 Mar 2020</td>\n      <td>SL</td>\n      <td>WI</td>\n      <td>Pallekele</td>\n      <td>307</td>\n      <td>6.14</td>\n      <td>SL</td>\n    </tr>\n    <tr>\n      <th>4</th>\n      <td>29 Feb 2020</td>\n      <td>SA</td>\n      <td>AUS</td>\n      <td>Paarl</td>\n      <td>291</td>\n      <td>5.82</td>\n      <td>SA</td>\n    </tr>\n  </tbody>\n</table>\n</div>",
            "text/plain": "      Start Date Team Opposition         Ground  Score   RPO Result\n0  13 March 2020  AUS         NZ         Sydney    258  5.16    AUS\n1     7 Mar 2020  AUS         SA  Potchefstroom    254  5.08     SA\n2     4 Mar 2020  AUS         SA   Bloemfontein    271  5.42     SA\n3     1 Mar 2020   SL         WI      Pallekele    307  6.14     SL\n4    29 Feb 2020   SA        AUS          Paarl    291  5.82     SA"
          },
          "metadata": {}
        }
      ]
    },
    {
      "metadata": {
        "trusted": true
      },
      "cell_type": "code",
      "source": "TeamCode = {'Team': {'AUS':1,'ENG':2,'PAK':3,'SL':4,'IND':5,'NZ':6,'WI':7,'SA':8},\n          'Opposition': {'AUS':1,'ENG':2,'PAK':3,'SL':4,'IND':5,'NZ':6,'WI':7,'SA':8},\n          'Result': {'AUS':1,'ENG':2,'PAK':3,'SL':4,'IND':5,'NZ':6,'WI':7,'SA':8}}\nmatches.replace(TeamCode, inplace=True)\nmatches.head()\n",
      "execution_count": 37,
      "outputs": [
        {
          "output_type": "execute_result",
          "execution_count": 37,
          "data": {
            "text/html": "<div>\n<style scoped>\n    .dataframe tbody tr th:only-of-type {\n        vertical-align: middle;\n    }\n\n    .dataframe tbody tr th {\n        vertical-align: top;\n    }\n\n    .dataframe thead th {\n        text-align: right;\n    }\n</style>\n<table border=\"1\" class=\"dataframe\">\n  <thead>\n    <tr style=\"text-align: right;\">\n      <th></th>\n      <th>Start Date</th>\n      <th>Team</th>\n      <th>Opposition</th>\n      <th>Ground</th>\n      <th>Score</th>\n      <th>RPO</th>\n      <th>Result</th>\n    </tr>\n  </thead>\n  <tbody>\n    <tr>\n      <th>0</th>\n      <td>13 March 2020</td>\n      <td>1</td>\n      <td>6</td>\n      <td>Sydney</td>\n      <td>258</td>\n      <td>5.16</td>\n      <td>1</td>\n    </tr>\n    <tr>\n      <th>1</th>\n      <td>7 Mar 2020</td>\n      <td>1</td>\n      <td>8</td>\n      <td>Potchefstroom</td>\n      <td>254</td>\n      <td>5.08</td>\n      <td>8</td>\n    </tr>\n    <tr>\n      <th>2</th>\n      <td>4 Mar 2020</td>\n      <td>1</td>\n      <td>8</td>\n      <td>Bloemfontein</td>\n      <td>271</td>\n      <td>5.42</td>\n      <td>8</td>\n    </tr>\n    <tr>\n      <th>3</th>\n      <td>1 Mar 2020</td>\n      <td>4</td>\n      <td>7</td>\n      <td>Pallekele</td>\n      <td>307</td>\n      <td>6.14</td>\n      <td>4</td>\n    </tr>\n    <tr>\n      <th>4</th>\n      <td>29 Feb 2020</td>\n      <td>8</td>\n      <td>1</td>\n      <td>Paarl</td>\n      <td>291</td>\n      <td>5.82</td>\n      <td>8</td>\n    </tr>\n  </tbody>\n</table>\n</div>",
            "text/plain": "      Start Date  Team  Opposition         Ground  Score   RPO  Result\n0  13 March 2020     1           6         Sydney    258  5.16       1\n1     7 Mar 2020     1           8  Potchefstroom    254  5.08       8\n2     4 Mar 2020     1           8   Bloemfontein    271  5.42       8\n3     1 Mar 2020     4           7      Pallekele    307  6.14       4\n4    29 Feb 2020     8           1          Paarl    291  5.82       8"
          },
          "metadata": {}
        }
      ]
    },
    {
      "metadata": {
        "trusted": true,
        "scrolled": true
      },
      "cell_type": "code",
      "source": "#dicVal is a dictionary for teams\ndicVal = TeamCode['Result']\nprint(dicVal['IND']) #print value from key\nprint(list(dicVal.keys())[list(dicVal.values()).index(7)])#find key by value\nprint(dicVal)\n",
      "execution_count": 38,
      "outputs": [
        {
          "output_type": "stream",
          "text": "5\nWI\n{'AUS': 1, 'ENG': 2, 'PAK': 3, 'SL': 4, 'IND': 5, 'NZ': 6, 'WI': 7, 'SA': 8}\n",
          "name": "stdout"
        }
      ]
    },
    {
      "metadata": {
        "trusted": true
      },
      "cell_type": "code",
      "source": "matches = matches[['Team','Opposition','Ground','Score','Result']]\n#we tool only the columns which are relevant to the outcome i.e winner\nmatches.head()\n",
      "execution_count": 39,
      "outputs": [
        {
          "output_type": "execute_result",
          "execution_count": 39,
          "data": {
            "text/html": "<div>\n<style scoped>\n    .dataframe tbody tr th:only-of-type {\n        vertical-align: middle;\n    }\n\n    .dataframe tbody tr th {\n        vertical-align: top;\n    }\n\n    .dataframe thead th {\n        text-align: right;\n    }\n</style>\n<table border=\"1\" class=\"dataframe\">\n  <thead>\n    <tr style=\"text-align: right;\">\n      <th></th>\n      <th>Team</th>\n      <th>Opposition</th>\n      <th>Ground</th>\n      <th>Score</th>\n      <th>Result</th>\n    </tr>\n  </thead>\n  <tbody>\n    <tr>\n      <th>0</th>\n      <td>1</td>\n      <td>6</td>\n      <td>Sydney</td>\n      <td>258</td>\n      <td>1</td>\n    </tr>\n    <tr>\n      <th>1</th>\n      <td>1</td>\n      <td>8</td>\n      <td>Potchefstroom</td>\n      <td>254</td>\n      <td>8</td>\n    </tr>\n    <tr>\n      <th>2</th>\n      <td>1</td>\n      <td>8</td>\n      <td>Bloemfontein</td>\n      <td>271</td>\n      <td>8</td>\n    </tr>\n    <tr>\n      <th>3</th>\n      <td>4</td>\n      <td>7</td>\n      <td>Pallekele</td>\n      <td>307</td>\n      <td>4</td>\n    </tr>\n    <tr>\n      <th>4</th>\n      <td>8</td>\n      <td>1</td>\n      <td>Paarl</td>\n      <td>291</td>\n      <td>8</td>\n    </tr>\n  </tbody>\n</table>\n</div>",
            "text/plain": "   Team  Opposition         Ground  Score  Result\n0     1           6         Sydney    258       1\n1     1           8  Potchefstroom    254       8\n2     1           8   Bloemfontein    271       8\n3     4           7      Pallekele    307       4\n4     8           1          Paarl    291       8"
          },
          "metadata": {}
        }
      ]
    },
    {
      "metadata": {
        "trusted": true
      },
      "cell_type": "code",
      "source": "df = pd.DataFrame(matches)\ndf.describe()",
      "execution_count": 40,
      "outputs": [
        {
          "output_type": "execute_result",
          "execution_count": 40,
          "data": {
            "text/html": "<div>\n<style scoped>\n    .dataframe tbody tr th:only-of-type {\n        vertical-align: middle;\n    }\n\n    .dataframe tbody tr th {\n        vertical-align: top;\n    }\n\n    .dataframe thead th {\n        text-align: right;\n    }\n</style>\n<table border=\"1\" class=\"dataframe\">\n  <thead>\n    <tr style=\"text-align: right;\">\n      <th></th>\n      <th>Team</th>\n      <th>Opposition</th>\n      <th>Score</th>\n      <th>Result</th>\n    </tr>\n  </thead>\n  <tbody>\n    <tr>\n      <th>count</th>\n      <td>671.000000</td>\n      <td>671.000000</td>\n      <td>671.000000</td>\n      <td>671.000000</td>\n    </tr>\n    <tr>\n      <th>mean</th>\n      <td>4.254844</td>\n      <td>4.385991</td>\n      <td>261.360656</td>\n      <td>4.250373</td>\n    </tr>\n    <tr>\n      <th>std</th>\n      <td>2.295167</td>\n      <td>2.205498</td>\n      <td>63.653478</td>\n      <td>2.294685</td>\n    </tr>\n    <tr>\n      <th>min</th>\n      <td>1.000000</td>\n      <td>1.000000</td>\n      <td>67.000000</td>\n      <td>1.000000</td>\n    </tr>\n    <tr>\n      <th>25%</th>\n      <td>2.000000</td>\n      <td>3.000000</td>\n      <td>223.000000</td>\n      <td>2.000000</td>\n    </tr>\n    <tr>\n      <th>50%</th>\n      <td>4.000000</td>\n      <td>4.000000</td>\n      <td>266.000000</td>\n      <td>4.000000</td>\n    </tr>\n    <tr>\n      <th>75%</th>\n      <td>6.000000</td>\n      <td>6.000000</td>\n      <td>302.500000</td>\n      <td>6.000000</td>\n    </tr>\n    <tr>\n      <th>max</th>\n      <td>8.000000</td>\n      <td>8.000000</td>\n      <td>481.000000</td>\n      <td>8.000000</td>\n    </tr>\n  </tbody>\n</table>\n</div>",
            "text/plain": "             Team  Opposition       Score      Result\ncount  671.000000  671.000000  671.000000  671.000000\nmean     4.254844    4.385991  261.360656    4.250373\nstd      2.295167    2.205498   63.653478    2.294685\nmin      1.000000    1.000000   67.000000    1.000000\n25%      2.000000    3.000000  223.000000    2.000000\n50%      4.000000    4.000000  266.000000    4.000000\n75%      6.000000    6.000000  302.500000    6.000000\nmax      8.000000    8.000000  481.000000    8.000000"
          },
          "metadata": {}
        }
      ]
    },
    {
      "metadata": {
        "trusted": true,
        "scrolled": true
      },
      "cell_type": "code",
      "source": "#toss won and matches won\ntemp=df['Result'].value_counts(sort=True)\n\nprint('\\nNo of matches won by each team ')\nfor idx, val in temp.iteritems():\n   print('{} -> {}'.format(list(dicVal.keys())[list(dicVal.values()).index(idx)],val))\n",
      "execution_count": 41,
      "outputs": [
        {
          "output_type": "stream",
          "text": "\nNo of matches won by each team \nIND -> 124\nENG -> 104\nAUS -> 99\nSA -> 93\nSL -> 80\nNZ -> 72\nPAK -> 66\nWI -> 33\n",
          "name": "stdout"
        }
      ]
    },
    {
      "metadata": {
        "trusted": true
      },
      "cell_type": "code",
      "source": "df.dtypes",
      "execution_count": 42,
      "outputs": [
        {
          "output_type": "execute_result",
          "execution_count": 42,
          "data": {
            "text/plain": "Team           int64\nOpposition     int64\nGround        object\nScore          int64\nResult         int64\ndtype: object"
          },
          "metadata": {}
        }
      ]
    },
    {
      "metadata": {
        "trusted": true
      },
      "cell_type": "code",
      "source": "#since city,toss_decision and venue are object hence convert them to integers for modellng the data\nfrom sklearn.preprocessing import LabelEncoder\nvar_mod = ['Ground']\nle = LabelEncoder()\nfor i in var_mod:\n    df[i] = le.fit_transform(df[i])\ndf.dtypes\n",
      "execution_count": 43,
      "outputs": [
        {
          "output_type": "execute_result",
          "execution_count": 43,
          "data": {
            "text/plain": "Team          int64\nOpposition    int64\nGround        int64\nScore         int64\nResult        int64\ndtype: object"
          },
          "metadata": {}
        }
      ]
    },
    {
      "metadata": {
        "trusted": true
      },
      "cell_type": "code",
      "source": "#building models to find the winner(Classification)-1)Logistic 2)RandomForest\nfrom sklearn.ensemble import RandomForestClassifier\nfrom sklearn.tree import DecisionTreeClassifier, export_graphviz\nfrom sklearn import metrics\n\n#classification models and finding their performance:\ndef classification_model(model, data, predictors, outcome):\n  model.fit(data[predictors],data[outcome])\n  \n  predictions = model.predict(data[predictors])\n  \n  accuracy = metrics.accuracy_score(predictions,data[outcome])\n  print('Accuracy : %s' % '{0:.3%}'.format(accuracy))",
      "execution_count": 44,
      "outputs": []
    },
    {
      "metadata": {
        "trusted": true
      },
      "cell_type": "code",
      "source": "#RandomForestClassifier\n\nmodel = RandomForestClassifier(n_estimators=100)\noutcome_var = ['Result']\npredictor_var = ['Team', 'Opposition', 'Ground', 'Score']\nclassification_model(model, df,predictor_var,outcome_var)",
      "execution_count": 45,
      "outputs": [
        {
          "output_type": "stream",
          "text": "/home/nbuser/anaconda3_501/lib/python3.6/site-packages/ipykernel/__main__.py:8: DataConversionWarning: A column-vector y was passed when a 1d array was expected. Please change the shape of y to (n_samples,), for example using ravel().\n",
          "name": "stderr"
        },
        {
          "output_type": "stream",
          "text": "Accuracy : 99.851%\n",
          "name": "stdout"
        }
      ]
    },
    {
      "metadata": {
        "trusted": true
      },
      "cell_type": "code",
      "source": "#Let's Play\nteam1='IND'\nteam2='AUS'\ninput=[dicVal[team1],dicVal[team2],'14','280']#team1,team2,venue,score\ninput = np.array(input).reshape((1, -1))\noutput=model.predict(input)\nprint(list(dicVal.keys())[list(dicVal.values()).index(output)])#finding key i.e team name from value",
      "execution_count": 46,
      "outputs": [
        {
          "output_type": "stream",
          "text": "IND\n",
          "name": "stdout"
        }
      ]
    },
    {
      "metadata": {
        "trusted": true
      },
      "cell_type": "code",
      "source": "#Let's Play\nteam1='ENG'\nteam2='AUS'\ninput=[dicVal[team1],dicVal[team2],'12','250']#team1,team2,venue,score\ninput = np.array(input).reshape((1, -1))\noutput=model.predict(input)\nprint(list(dicVal.keys())[list(dicVal.values()).index(output)])#finding key i.e team name from value",
      "execution_count": 20,
      "outputs": [
        {
          "output_type": "stream",
          "text": "ENG\n",
          "name": "stdout"
        }
      ]
    },
    {
      "metadata": {
        "trusted": true
      },
      "cell_type": "code",
      "source": "#Let's Play\nteam1='NZ'\nteam2='WI'\ninput=[dicVal[team1],dicVal[team2],'10','225']#team1,team2,venue,score\ninput = np.array(input).reshape((1, -1))\noutput=model.predict(input)\nprint(list(dicVal.keys())[list(dicVal.values()).index(output)])#finding key i.e team name from value",
      "execution_count": 21,
      "outputs": [
        {
          "output_type": "stream",
          "text": "NZ\n",
          "name": "stdout"
        }
      ]
    },
    {
      "metadata": {
        "trusted": true
      },
      "cell_type": "code",
      "source": "",
      "execution_count": null,
      "outputs": []
    }
  ],
  "metadata": {
    "kernelspec": {
      "name": "python36",
      "display_name": "Python 3.6",
      "language": "python"
    },
    "language_info": {
      "mimetype": "text/x-python",
      "nbconvert_exporter": "python",
      "name": "python",
      "pygments_lexer": "ipython3",
      "version": "3.6.6",
      "file_extension": ".py",
      "codemirror_mode": {
        "version": 3,
        "name": "ipython"
      }
    }
  },
  "nbformat": 4,
  "nbformat_minor": 2
}